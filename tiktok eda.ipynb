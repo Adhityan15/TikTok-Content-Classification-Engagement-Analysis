{
 "cells": [
  {
   "cell_type": "code",
   "execution_count": 1,
   "id": "072f668e-bc17-46a6-a1e3-d21abc5e5a7a",
   "metadata": {},
   "outputs": [],
   "source": [
    "#  Import packages\n",
    "import pandas as pd\n",
    "import numpy as np"
   ]
  },
  {
   "cell_type": "code",
   "execution_count": 4,
   "id": "3a1c5a7a-8eee-46ac-9de2-cd7f857c64a5",
   "metadata": {},
   "outputs": [
    {
     "name": "stdout",
     "output_type": "stream",
     "text": [
      "sucessfully loaded\n"
     ]
    }
   ],
   "source": [
    "#  Load the dataset\n",
    "data = pd.read_csv(\"tiktok_dataset.csv\")\n",
    "print(\"sucessfully loaded\")"
   ]
  },
  {
   "cell_type": "code",
   "execution_count": 5,
   "id": "20649795-7974-4dc1-b435-01a3413019a6",
   "metadata": {},
   "outputs": [
    {
     "name": "stdout",
     "output_type": "stream",
     "text": [
      "    # claim_status    video_id  video_duration_sec  \\\n",
      "0   1        claim  7017666017                  59   \n",
      "1   2        claim  4014381136                  32   \n",
      "2   3        claim  9859838091                  31   \n",
      "3   4        claim  1866847991                  25   \n",
      "4   5        claim  7105231098                  19   \n",
      "5   6        claim  8972200955                  35   \n",
      "6   7        claim  4958886992                  16   \n",
      "7   8        claim  2270982263                  41   \n",
      "8   9        claim  5235769692                  50   \n",
      "9  10        claim  4660861094                  45   \n",
      "\n",
      "                            video_transcription_text verified_status  \\\n",
      "0  someone shared with me that drone deliveries a...    not verified   \n",
      "1  someone shared with me that there are more mic...    not verified   \n",
      "2  someone shared with me that american industria...    not verified   \n",
      "3  someone shared with me that the metro of st. p...    not verified   \n",
      "4  someone shared with me that the number of busi...    not verified   \n",
      "5  someone shared with me that gross domestic pro...    not verified   \n",
      "6  someone shared with me that elvis presley has ...    not verified   \n",
      "7  someone shared with me that the best selling s...    not verified   \n",
      "8  someone shared with me that about half of the ...    not verified   \n",
      "9  someone shared with me that it would take a 50...        verified   \n",
      "\n",
      "  author_ban_status  video_view_count  video_like_count  video_share_count  \\\n",
      "0      under review          343296.0           19425.0              241.0   \n",
      "1            active          140877.0           77355.0            19034.0   \n",
      "2            active          902185.0           97690.0             2858.0   \n",
      "3            active          437506.0          239954.0            34812.0   \n",
      "4            active           56167.0           34987.0             4110.0   \n",
      "5      under review          336647.0          175546.0            62303.0   \n",
      "6            active          750345.0          486192.0           193911.0   \n",
      "7            active          547532.0            1072.0               50.0   \n",
      "8            active           24819.0           10160.0             1050.0   \n",
      "9            active          931587.0          171051.0            67739.0   \n",
      "\n",
      "   video_download_count  video_comment_count  \n",
      "0                   1.0                  0.0  \n",
      "1                1161.0                684.0  \n",
      "2                 833.0                329.0  \n",
      "3                1234.0                584.0  \n",
      "4                 547.0                152.0  \n",
      "5                4293.0               1857.0  \n",
      "6                8616.0               5446.0  \n",
      "7                  22.0                 11.0  \n",
      "8                  53.0                 27.0  \n",
      "9                4104.0               2540.0  \n",
      "<class 'pandas.core.frame.DataFrame'>\n",
      "RangeIndex: 19382 entries, 0 to 19381\n",
      "Data columns (total 12 columns):\n",
      " #   Column                    Non-Null Count  Dtype  \n",
      "---  ------                    --------------  -----  \n",
      " 0   #                         19382 non-null  int64  \n",
      " 1   claim_status              19084 non-null  object \n",
      " 2   video_id                  19382 non-null  int64  \n",
      " 3   video_duration_sec        19382 non-null  int64  \n",
      " 4   video_transcription_text  19084 non-null  object \n",
      " 5   verified_status           19382 non-null  object \n",
      " 6   author_ban_status         19382 non-null  object \n",
      " 7   video_view_count          19084 non-null  float64\n",
      " 8   video_like_count          19084 non-null  float64\n",
      " 9   video_share_count         19084 non-null  float64\n",
      " 10  video_download_count      19084 non-null  float64\n",
      " 11  video_comment_count       19084 non-null  float64\n",
      "dtypes: float64(5), int64(3), object(4)\n",
      "memory usage: 1.8+ MB\n",
      "None\n",
      "                  #      video_id  video_duration_sec  video_view_count  \\\n",
      "count  19382.000000  1.938200e+04        19382.000000      19084.000000   \n",
      "mean    9691.500000  5.627454e+09           32.421732     254708.558688   \n",
      "std     5595.245794  2.536440e+09           16.229967     322893.280814   \n",
      "min        1.000000  1.234959e+09            5.000000         20.000000   \n",
      "25%     4846.250000  3.430417e+09           18.000000       4942.500000   \n",
      "50%     9691.500000  5.618664e+09           32.000000       9954.500000   \n",
      "75%    14536.750000  7.843960e+09           47.000000     504327.000000   \n",
      "max    19382.000000  9.999873e+09           60.000000     999817.000000   \n",
      "\n",
      "       video_like_count  video_share_count  video_download_count  \\\n",
      "count      19084.000000       19084.000000          19084.000000   \n",
      "mean       84304.636030       16735.248323           1049.429627   \n",
      "std       133420.546814       32036.174350           2004.299894   \n",
      "min            0.000000           0.000000              0.000000   \n",
      "25%          810.750000         115.000000              7.000000   \n",
      "50%         3403.500000         717.000000             46.000000   \n",
      "75%       125020.000000       18222.000000           1156.250000   \n",
      "max       657830.000000      256130.000000          14994.000000   \n",
      "\n",
      "       video_comment_count  \n",
      "count         19084.000000  \n",
      "mean            349.312146  \n",
      "std             799.638865  \n",
      "min               0.000000  \n",
      "25%               1.000000  \n",
      "50%               9.000000  \n",
      "75%             292.000000  \n",
      "max            9599.000000  \n"
     ]
    }
   ],
   "source": [
    "# Inspect the data\n",
    "print(data.head(10))        # Display first 10 rows\n",
    "print(data.info())          # Data types and null info\n",
    "print(data.describe())      # Statistical summary"
   ]
  },
  {
   "cell_type": "code",
   "execution_count": 6,
   "id": "a15225fa-78d8-40e1-8ea1-ea5136a59080",
   "metadata": {},
   "outputs": [
    {
     "name": "stdout",
     "output_type": "stream",
     "text": [
      "claim_status\n",
      "claim      9608\n",
      "opinion    9476\n",
      "Name: count, dtype: int64\n"
     ]
    }
   ],
   "source": [
    "# 🔍 Step 4: Value counts for claim_status\n",
    "print(data['claim_status'].value_counts())\n"
   ]
  },
  {
   "cell_type": "code",
   "execution_count": 7,
   "id": "a7cac09a-86b1-492c-b880-67174e7e9ef4",
   "metadata": {},
   "outputs": [
    {
     "name": "stdout",
     "output_type": "stream",
     "text": [
      "Average views (Claim): 501029.4527477102\n",
      "Average views (Opinion): 4956.43224989447\n"
     ]
    }
   ],
   "source": [
    "# 📊 Step 5: Engagement - Average views by claim type\n",
    "claim_avg_views = data[data[\"claim_status\"] == \"claim\"][\"video_view_count\"].mean()\n",
    "opinion_avg_views = data[data[\"claim_status\"] == \"opinion\"][\"video_view_count\"].mean()\n",
    "print(\"Average views (Claim):\", claim_avg_views)\n",
    "print(\"Average views (Opinion):\", opinion_avg_views)"
   ]
  },
  {
   "cell_type": "code",
   "execution_count": 9,
   "id": "04236321-c993-4fff-b80e-b80361b5d1ef",
   "metadata": {},
   "outputs": [
    {
     "name": "stdout",
     "output_type": "stream",
     "text": [
      "  claim_status author_ban_status  counts\n",
      "0        claim            active    6566\n",
      "1        claim            banned    1439\n",
      "2        claim      under review    1603\n",
      "3      opinion            active    8817\n",
      "4      opinion            banned     196\n",
      "5      opinion      under review     463\n"
     ]
    }
   ],
   "source": [
    "# 🔎 Step 6: Group by claim_status and author_ban_status\n",
    "claim_ban_group = data.groupby(['claim_status', 'author_ban_status']).size().reset_index(name='counts')\n",
    "print(claim_ban_group)"
   ]
  },
  {
   "cell_type": "code",
   "execution_count": 10,
   "id": "441c150a-4c54-45e2-8dad-f25820e5b778",
   "metadata": {},
   "outputs": [
    {
     "name": "stdout",
     "output_type": "stream",
     "text": [
      "author_ban_status\n",
      "active            437.0\n",
      "banned          14468.0\n",
      "under review     9444.0\n",
      "Name: video_share_count, dtype: float64\n"
     ]
    }
   ],
   "source": [
    "# Median shares by author_ban_status\n",
    "print(data.groupby(\"author_ban_status\")[\"video_share_count\"].median())"
   ]
  },
  {
   "cell_type": "code",
   "execution_count": 11,
   "id": "531a3e90-a4b0-462c-8221-806415f80789",
   "metadata": {},
   "outputs": [
    {
     "name": "stdout",
     "output_type": "stream",
     "text": [
      "                  video_view_count                          video_like_count  \\\n",
      "                             count           mean    median            count   \n",
      "author_ban_status                                                              \n",
      "active                       15383  215927.039524    8616.0            15383   \n",
      "banned                        1635  445845.439144  448201.0             1635   \n",
      "under review                  2066  392204.836399  365245.5             2066   \n",
      "\n",
      "                                           video_share_count                \\\n",
      "                            mean    median             count          mean   \n",
      "author_ban_status                                                            \n",
      "active              71036.533836    2222.0             15383  14111.466164   \n",
      "banned             153017.236697  105573.0              1635  29998.942508   \n",
      "under review       128718.050339   71204.5              2066  25774.696999   \n",
      "\n",
      "                            \n",
      "                    median  \n",
      "author_ban_status           \n",
      "active               437.0  \n",
      "banned             14468.0  \n",
      "under review        9444.0  \n"
     ]
    }
   ],
   "source": [
    "# Group by author_ban_status - Engagement stats\n",
    "engagement_stats = data.groupby(\"author_ban_status\")[\n",
    "    [\"video_view_count\", \"video_like_count\", \"video_share_count\"]\n",
    "].agg([\"count\", \"mean\", \"median\"])\n",
    "print(engagement_stats)\n"
   ]
  },
  {
   "cell_type": "code",
   "execution_count": 14,
   "id": "bc8692e6-dc5e-4fe8-a83b-8873f1ece6d4",
   "metadata": {},
   "outputs": [],
   "source": [
    "\n",
    "# New ratio columns\n",
    "data[\"likes_per_view\"] = data[\"video_like_count\"] / data[\"video_view_count\"]\n",
    "data[\"comments_per_view\"] = data[\"video_comment_count\"] / data[\"video_view_count\"]\n",
    "data[\"shares_per_view\"] = data[\"video_share_count\"] / data[\"video_view_count\"]"
   ]
  },
  {
   "cell_type": "code",
   "execution_count": 15,
   "id": "0c4e99f1-d45d-429e-b9df-9ff68623dab5",
   "metadata": {},
   "outputs": [
    {
     "name": "stdout",
     "output_type": "stream",
     "text": [
      "\n",
      "Engagement ratios by claim and ban status:\n",
      "                               likes_per_view                      \\\n",
      "                                        count      mean    median   \n",
      "claim_status author_ban_status                                      \n",
      "claim        active                      6566  0.329542  0.326538   \n",
      "             banned                      1439  0.345071  0.358909   \n",
      "             under review                1603  0.327997  0.320867   \n",
      "opinion      active                      8817  0.219744  0.218330   \n",
      "             banned                       196  0.206868  0.198483   \n",
      "             under review                 463  0.226394  0.228051   \n",
      "\n",
      "                               comments_per_view                      \\\n",
      "                                           count      mean    median   \n",
      "claim_status author_ban_status                                         \n",
      "claim        active                         6566  0.001393  0.000776   \n",
      "             banned                         1439  0.001377  0.000746   \n",
      "             under review                   1603  0.001367  0.000789   \n",
      "opinion      active                         8817  0.000517  0.000252   \n",
      "             banned                          196  0.000434  0.000193   \n",
      "             under review                    463  0.000536  0.000293   \n",
      "\n",
      "                               shares_per_view                      \n",
      "                                         count      mean    median  \n",
      "claim_status author_ban_status                                      \n",
      "claim        active                       6566  0.065456  0.049279  \n",
      "             banned                       1439  0.067893  0.051606  \n",
      "             under review                 1603  0.065733  0.049967  \n",
      "opinion      active                       8817  0.043729  0.032405  \n",
      "             banned                        196  0.040531  0.030728  \n",
      "             under review                  463  0.044472  0.035027  \n"
     ]
    }
   ],
   "source": [
    "# Group ratios by claim and ban status\n",
    "print(\"\\nEngagement ratios by claim and ban status:\")\n",
    "ratios_grouped = data.groupby([\"claim_status\", \"author_ban_status\"])[\n",
    "    [\"likes_per_view\", \"comments_per_view\", \"shares_per_view\"]\n",
    "].agg([\"count\", \"mean\", \"median\"])\n",
    "print(ratios_grouped)"
   ]
  },
  {
   "cell_type": "code",
   "execution_count": null,
   "id": "0ed7e2a9-35a9-4758-bad1-3f48b7dd127c",
   "metadata": {},
   "outputs": [],
   "source": []
  }
 ],
 "metadata": {
  "kernelspec": {
   "display_name": "Python 3 (ipykernel)",
   "language": "python",
   "name": "python3"
  },
  "language_info": {
   "codemirror_mode": {
    "name": "ipython",
    "version": 3
   },
   "file_extension": ".py",
   "mimetype": "text/x-python",
   "name": "python",
   "nbconvert_exporter": "python",
   "pygments_lexer": "ipython3",
   "version": "3.11.9"
  }
 },
 "nbformat": 4,
 "nbformat_minor": 5
}
